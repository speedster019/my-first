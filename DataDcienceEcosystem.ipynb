{
 "cells": [
  {
   "cell_type": "markdown",
   "id": "b3f2fc78-f098-4785-9190-61512e4b9cbc",
   "metadata": {},
   "source": [
    "# Data Science Tools and Ecosystem"
   ]
  },
  {
   "cell_type": "markdown",
   "id": "3f09f2cd-b393-46ca-bb16-de5e25364515",
   "metadata": {},
   "source": [
    "## In this notebook, Data Science Tools and Ecosystem are summarized."
   ]
  },
  {
   "cell_type": "markdown",
   "id": "0ccda5f2-2b64-46c9-9e9f-7f25d9be1e64",
   "metadata": {},
   "source": [
    "## Objectives:\n",
    "\n",
    ". List popular languages for Data Science\n",
    "\n",
    ". commonly used libraries used by Data Scientists\n",
    "\n",
    ". Some Data Science Tools\n",
    "\n",
    ". examples of evaluating arithmetic expressions in Python\n",
    "\n"
   ]
  },
  {
   "cell_type": "markdown",
   "id": "9096d201-efbf-460f-82d3-8f59253f53e1",
   "metadata": {},
   "source": [
    "### Some of the popular languages that Data Scientists use are:\n",
    "\n",
    "1. python\n",
    "\n",
    "2. R\n",
    "\n",
    "3. SQL"
   ]
  },
  {
   "cell_type": "markdown",
   "id": "413ebdff-bb4a-441b-b785-3e0f5376d801",
   "metadata": {},
   "source": [
    "#### Some of the commonly used libraries used by Data Scientists include:\n",
    "\n",
    "1. Pandas\n",
    "\n",
    "2. Scikit-learn\n",
    "\n",
    "3. Numpy"
   ]
  },
  {
   "cell_type": "markdown",
   "id": "a8d5a6eb-8e19-4bd4-b056-7ef476a65537",
   "metadata": {},
   "source": [
    "| Data Science Tools |\n",
    "|------|\n",
    "|1. Jupiter Notebook |\n",
    "|2. VS (Visual Studion) code |\n",
    "|3. Rstudio |"
   ]
  },
  {
   "cell_type": "markdown",
   "id": "cf308110-a10c-4aae-a5b0-aaa38025e360",
   "metadata": {},
   "source": [
    "### Below are a few examples of evaluating arithmetic expressions in Python."
   ]
  },
  {
   "cell_type": "code",
   "execution_count": 1,
   "id": "1417e890-52f5-48a9-aab8-10c1be1808c6",
   "metadata": {},
   "outputs": [
    {
     "data": {
      "text/plain": [
       "17"
      ]
     },
     "execution_count": 1,
     "metadata": {},
     "output_type": "execute_result"
    }
   ],
   "source": [
    "# This a simple arithmetic expression to mutiply then add integers.\n",
    "\n",
    "(3*4)+5"
   ]
  },
  {
   "cell_type": "code",
   "execution_count": 10,
   "id": "00fe1894-9335-4d01-ac42-bc8e2a0260c2",
   "metadata": {},
   "outputs": [
    {
     "name": "stdout",
     "output_type": "stream",
     "text": [
      "the 200 minutes =  3.3333333333333335 hr\n"
     ]
    }
   ],
   "source": [
    "# This will convert 200 minutes to hours by diving by 60\n",
    "\n",
    "a = 200\n",
    "b = 60\n",
    "c = a/b\n",
    "\n",
    "print(\"the 200 minutes = \",c,\"hr\")\n",
    "\n"
   ]
  },
  {
   "cell_type": "markdown",
   "id": "ef30099d-a50e-42e9-bb43-8962cddf2f66",
   "metadata": {},
   "source": [
    "# Author\n",
    "Abubakar Rabiu Salihawa"
   ]
  },
  {
   "cell_type": "code",
   "execution_count": null,
   "id": "dcb06a90-35d5-4181-8bb0-dd16b2626429",
   "metadata": {},
   "outputs": [],
   "source": []
  }
 ],
 "metadata": {
  "kernelspec": {
   "display_name": "Python 3 (ipykernel)",
   "language": "python",
   "name": "python3"
  },
  "language_info": {
   "codemirror_mode": {
    "name": "ipython",
    "version": 3
   },
   "file_extension": ".py",
   "mimetype": "text/x-python",
   "name": "python",
   "nbconvert_exporter": "python",
   "pygments_lexer": "ipython3",
   "version": "3.9.12"
  }
 },
 "nbformat": 4,
 "nbformat_minor": 5
}
